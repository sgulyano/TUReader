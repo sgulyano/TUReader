{
 "cells": [
  {
   "cell_type": "markdown",
   "metadata": {},
   "source": [
    "# แก้ไขรายชื่อผู้ทรงคุณวุฒิที่ เสนอสภามหาวิทยาลัย\n",
    "เปิดไฟล์ Excel ข้อมูลของ ที่ เสนอสภามหาวิทยาลัย (ให้แก้ชื่อคอลัมน์ในไฟล์ Excel ให้ถูกต้องก่อนรันโค้ดนี้) และตั้งชื่อไฟล์สำหรับเก็บข้อมูลที่มีปัญหา"
   ]
  },
  {
   "cell_type": "code",
   "execution_count": 1,
   "metadata": {},
   "outputs": [],
   "source": [
    "import os\n",
    "import pandas as pd\n",
    "from fixblank import rmblankname\n",
    "from fixwords import fixranks, fixphd, fixuni, fixstatus, ranks\n",
    "from fixnames import fix_name, get_title\n",
    "from fixtitle import fix_title\n",
    "pd.options.mode.chained_assignment = None\n",
    "pd.set_option('display.max_rows', 10)\n",
    "fn = 'รายชื่อผู้ทรงคุณวุฒิ_เสนอสภามหาวิทยาลัย.xlsx'\n",
    "b = pd.ExcelFile(fn)"
   ]
  },
  {
   "cell_type": "markdown",
   "metadata": {},
   "source": [
    "กำหนดคอลัมน์ที่มีข้อมูลที่จำเป็น"
   ]
  },
  {
   "cell_type": "code",
   "execution_count": 2,
   "metadata": {},
   "outputs": [],
   "source": [
    "cols = ['ตำแหน่ง', 'ชื่อ', 'นามสกุล', 'คุณวุฒิ', 'สาขาวิชา',\n",
    "        'ความเชี่ยวชาญ', 'สถานที่ติดต่อ', 'โทร.', 'email']"
   ]
  },
  {
   "cell_type": "markdown",
   "metadata": {},
   "source": [
    "สร้างฟังก์ชันแก้ไขตำแหน่ง"
   ]
  },
  {
   "cell_type": "code",
   "execution_count": 3,
   "metadata": {},
   "outputs": [],
   "source": [
    "def splitpos(s):\n",
    "    s['ตำแหน่งใหม่'] = s['ตำแหน่ง'].strip()\n",
    "    s['ตำแหน่ง'] = ''\n",
    "    if s['ตำแหน่งใหม่'].endswith('ดร.'):\n",
    "        s['ตำแหน่ง ป.เอก'] = 'ดร.'\n",
    "        s['ตำแหน่งใหม่'] = s['ตำแหน่งใหม่'][:-3]\n",
    "    else:\n",
    "        s['ตำแหน่ง ป.เอก'] = ''\n",
    "    \n",
    "    done = False\n",
    "    if s['ตำแหน่งใหม่']:\n",
    "        for key, value in ranks.items():\n",
    "            for item in [key]+value:\n",
    "                if item and s['ตำแหน่งใหม่'].startswith(item):\n",
    "                    s['ตำแหน่ง'] = s['ตำแหน่ง'] + key\n",
    "                    s['ตำแหน่งใหม่'] = s['ตำแหน่งใหม่'][len(item):]\n",
    "                    done = True\n",
    "                    break\n",
    "            if done:\n",
    "                break\n",
    "    return s\n",
    "\n",
    "# dfs['ตำแหน่ง'] = dfs['ตำแหน่ง'].fillna('')\n",
    "# mydfs = dfs.apply(splitpos, axis=1)\n",
    "# print(mydfs[['ตำแหน่งใหม่', 'ตำแหน่ง ป.เอก']])"
   ]
  },
  {
   "cell_type": "markdown",
   "metadata": {},
   "source": [
    "สร้างฟังก์ชันหาชื่อมหาวิทยาลัยจากสถานที่ติดต่อ"
   ]
  },
  {
   "cell_type": "code",
   "execution_count": 4,
   "metadata": {},
   "outputs": [],
   "source": [
    "from fixwords import uni\n",
    "\n",
    "def splituni(s):\n",
    "    place = ''.join(s.split())\n",
    "    keys = uni.keys()\n",
    "    match_pos = [(place.find(x), x) for x in keys if place.find(x) >= 0]\n",
    "    if not match_pos:\n",
    "        return ''\n",
    "    else:\n",
    "        university = min(match_pos, key = lambda t: t[0])\n",
    "        return university[1]\n",
    "\n",
    "# dd = dfs['สถานที่ติดต่อ'].fillna('').apply(splituni)\n",
    "\n",
    "# for i, x in enumerate(dd):\n",
    "#     if len(x) != 1:\n",
    "#         print(x)\n",
    "#         print(i)\n",
    "#         print(dfs['สถานที่ติดต่อ'][i])\n",
    "#     if not x:\n",
    "#         print(i)\n",
    "#         print(dfs['สถานที่ติดต่อ'][i])"
   ]
  },
  {
   "cell_type": "markdown",
   "metadata": {},
   "source": [
    "### รวมข้อมูลจากทุก Sheet\n",
    "\n",
    "ในไฟล์ Excel ข้อมูลในแต่ละ Sheet แบ่งตามสาขาวิชาของผู้ทรงคุณวุฒิ\n",
    "\n",
    "ในแต่ละ Sheet ทำดังนี้\n",
    "* ลบแถวที่ไม่มีข้อมูล\n",
    "* แยกข้อมูลที่มีปัญหาออกมา และบันทึกในไฟล์ที่กำหนด\n",
    "* แก้ไขคอลัมน์ คุณวุฒิ และความเชี่ยวชาญ\n",
    "* เพิ่มคอลัมน์ สาขาวิชา ตามชื่อ Sheet"
   ]
  },
  {
   "cell_type": "code",
   "execution_count": 5,
   "metadata": {},
   "outputs": [
    {
     "name": "stdout",
     "output_type": "stream",
     "text": [
      "Reader\n"
     ]
    }
   ],
   "source": [
    "dfs = None\n",
    "for c in b.sheet_names:\n",
    "    print(c)\n",
    "    d = b.parse(c, skiprows=1)\n",
    "    d = d.dropna(how='all')\n",
    "    d.columns = [c.strip() for c in d.columns]\n",
    "    \n",
    "    d = d[cols]\n",
    "    d = rmblankname(d, cols[1:3])\n",
    "    d['สถานภาพ'] = ''\n",
    "    \n",
    "    d['ตำแหน่ง'] = d['ตำแหน่ง'].fillna('')\n",
    "    d = d.apply(splitpos, axis=1)\n",
    "    \n",
    "    d['มหาลัย'] = d['สถานที่ติดต่อ'].fillna('').apply(splituni)\n",
    "    dfs = pd.concat([dfs, d])\n",
    "#dfs\n"
   ]
  },
  {
   "cell_type": "markdown",
   "metadata": {},
   "source": [
    "เรียงคอลัมน์ใหม่ และเปลี่ยนชื่อคอลัมน์ใหม่"
   ]
  },
  {
   "cell_type": "code",
   "execution_count": 6,
   "metadata": {},
   "outputs": [],
   "source": [
    "dfs_cols = ['ตำแหน่ง', 'ตำแหน่ง ป.เอก', 'ตำแหน่งใหม่', 'ชื่อ', 'นามสกุล', 'คุณวุฒิ', 'มหาลัย', 'สาขาวิชา', 'ความเชี่ยวชาญ', 'สถานที่ติดต่อ', 'โทร.', 'email', 'สถานภาพ']\n",
    "new_cols = ['ตำแหน่ง', 'ตำแหน่ง ป.เอก', 'คำนำหน้านาม', 'ชื่อ', 'นามสกุล', 'คุณวุฒิ', 'มหาวิทยาลัย', 'สาขาวิชา', 'ความเชี่ยวชาญ', 'สถานที่ติดต่อ', 'โทร', 'email', 'สถานะ']\n",
    "dfs2 = dfs[dfs_cols]\n",
    "dfs2.columns = new_cols"
   ]
  },
  {
   "cell_type": "markdown",
   "metadata": {},
   "source": [
    "### การแก้ไขข้อมูล\n",
    "* แก้ชื่อตำแหน่ง, ตำแหน่ง ป.เอก, ชื่อมหาวิทยาลัย ที่ปนระหว่างชื่อเต็ม และตัวย่อ หรือสะกดไม่เหมือนกัน\n",
    "* แก้ สถานะ ให้มีแค่ เกษียณ, ลาออก, หรือปกติ\n",
    "* แก้ชื่อ โดยการลบคำนำหน้าชื่อ ทั้งที่เป็นตัวย่อ และคำเต็ม เช่น นาย, นาง, นางสาว"
   ]
  },
  {
   "cell_type": "code",
   "execution_count": 7,
   "metadata": {},
   "outputs": [],
   "source": [
    "dfs2['ตำแหน่ง'] = dfs2['ตำแหน่ง'].fillna('').apply(fixranks)\n",
    "dfs2['ตำแหน่ง ป.เอก'] = dfs2['ตำแหน่ง ป.เอก'].fillna('').apply(fixphd)\n",
    "dfs2['มหาวิทยาลัย'] = dfs2['มหาวิทยาลัย'].fillna('').apply(fixuni)\n",
    "dfs2['สถานะ'] = dfs2['สถานะ'].fillna('').apply(fixstatus)"
   ]
  },
  {
   "cell_type": "code",
   "execution_count": 8,
   "metadata": {},
   "outputs": [],
   "source": [
    "dfs2['ชื่อ'] = dfs2['ชื่อ'].fillna('').apply(fix_name)\n",
    "dfs2['ชื่อ'] = dfs2['ชื่อ'].fillna('').apply(fix_title)"
   ]
  },
  {
   "cell_type": "code",
   "execution_count": 9,
   "metadata": {},
   "outputs": [
    {
     "data": {
      "text/plain": [
       "array(['รองศาสตราจารย์', 'ผู้ช่วยศาสตราจารย์', '', 'ศาสตราจารย์'],\n",
       "      dtype=object)"
      ]
     },
     "execution_count": 9,
     "metadata": {},
     "output_type": "execute_result"
    }
   ],
   "source": [
    "dfs2['ตำแหน่ง'].unique()"
   ]
  },
  {
   "cell_type": "code",
   "execution_count": 10,
   "metadata": {},
   "outputs": [
    {
     "data": {
      "text/html": [
       "<div>\n",
       "<style scoped>\n",
       "    .dataframe tbody tr th:only-of-type {\n",
       "        vertical-align: middle;\n",
       "    }\n",
       "\n",
       "    .dataframe tbody tr th {\n",
       "        vertical-align: top;\n",
       "    }\n",
       "\n",
       "    .dataframe thead th {\n",
       "        text-align: right;\n",
       "    }\n",
       "</style>\n",
       "<table border=\"1\" class=\"dataframe\">\n",
       "  <thead>\n",
       "    <tr style=\"text-align: right;\">\n",
       "      <th></th>\n",
       "      <th>ตำแหน่ง</th>\n",
       "      <th>ตำแหน่ง ป.เอก</th>\n",
       "      <th>คำนำหน้านาม</th>\n",
       "      <th>ชื่อ</th>\n",
       "      <th>นามสกุล</th>\n",
       "      <th>คุณวุฒิ</th>\n",
       "      <th>มหาวิทยาลัย</th>\n",
       "      <th>สาขาวิชา</th>\n",
       "      <th>ความเชี่ยวชาญ</th>\n",
       "      <th>สถานที่ติดต่อ</th>\n",
       "      <th>โทร</th>\n",
       "      <th>email</th>\n",
       "      <th>สถานะ</th>\n",
       "    </tr>\n",
       "  </thead>\n",
       "  <tbody>\n",
       "    <tr>\n",
       "      <th>37</th>\n",
       "      <td>ศาสตราจารย์</td>\n",
       "      <td>ดร.</td>\n",
       "      <td></td>\n",
       "      <td>นฤมล</td>\n",
       "      <td>สอาดโฉม</td>\n",
       "      <td>Ph.D. (Risk Management and Insurance)</td>\n",
       "      <td>สถาบันบัณฑิตพัฒนบริหารศาสตร์</td>\n",
       "      <td>การบริหารความเสี่ยง</td>\n",
       "      <td>NaN</td>\n",
       "      <td>คณะบริหารธุรกิจ \\nสถาบันบัณฑิตพัฒนบริหารศาสตร์...</td>\n",
       "      <td>02-727-3962</td>\n",
       "      <td>narumon@nida.ac.th</td>\n",
       "      <td></td>\n",
       "    </tr>\n",
       "    <tr>\n",
       "      <th>65</th>\n",
       "      <td>ศาสตราจารย์</td>\n",
       "      <td>ดร.</td>\n",
       "      <td></td>\n",
       "      <td>สุนันทา</td>\n",
       "      <td>เสียงไทย</td>\n",
       "      <td>Ph.D. (Labor and Industrial Relations)</td>\n",
       "      <td>สถาบันเทคโนโลยีแห่งเอเชีย</td>\n",
       "      <td>บริหารการปฏิบัติการ</td>\n",
       "      <td>Human Resource Management and Firm Performance...</td>\n",
       "      <td>สำนักวิชาวิทยาการจัดการ \\nสถาบันเทคโนโลยีแห่งเ...</td>\n",
       "      <td>02-524-5661</td>\n",
       "      <td>s.siengthai@ait.ac.th</td>\n",
       "      <td></td>\n",
       "    </tr>\n",
       "  </tbody>\n",
       "</table>\n",
       "</div>"
      ],
      "text/plain": [
       "        ตำแหน่ง ตำแหน่ง ป.เอก คำนำหน้านาม     ชื่อ   นามสกุล  \\\n",
       "37  ศาสตราจารย์           ดร.                 นฤมล   สอาดโฉม   \n",
       "65  ศาสตราจารย์           ดร.              สุนันทา  เสียงไทย   \n",
       "\n",
       "                                   คุณวุฒิ                   มหาวิทยาลัย  \\\n",
       "37   Ph.D. (Risk Management and Insurance)  สถาบันบัณฑิตพัฒนบริหารศาสตร์   \n",
       "65  Ph.D. (Labor and Industrial Relations)     สถาบันเทคโนโลยีแห่งเอเชีย   \n",
       "\n",
       "               สาขาวิชา                                      ความเชี่ยวชาญ  \\\n",
       "37  การบริหารความเสี่ยง                                                NaN   \n",
       "65  บริหารการปฏิบัติการ  Human Resource Management and Firm Performance...   \n",
       "\n",
       "                                        สถานที่ติดต่อ          โทร  \\\n",
       "37  คณะบริหารธุรกิจ \\nสถาบันบัณฑิตพัฒนบริหารศาสตร์...  02-727-3962   \n",
       "65  สำนักวิชาวิทยาการจัดการ \\nสถาบันเทคโนโลยีแห่งเ...  02-524-5661   \n",
       "\n",
       "                    email สถานะ  \n",
       "37     narumon@nida.ac.th        \n",
       "65  s.siengthai@ait.ac.th        "
      ]
     },
     "execution_count": 10,
     "metadata": {},
     "output_type": "execute_result"
    }
   ],
   "source": [
    "import numpy as np\n",
    "dfs2.iloc[np.where(dfs2['ตำแหน่ง'] == 'ศาสตราจารย์')]"
   ]
  },
  {
   "cell_type": "code",
   "execution_count": 11,
   "metadata": {},
   "outputs": [
    {
     "data": {
      "text/plain": [
       "array(['ดร.', ''], dtype=object)"
      ]
     },
     "execution_count": 11,
     "metadata": {},
     "output_type": "execute_result"
    }
   ],
   "source": [
    "dfs2['ตำแหน่ง ป.เอก'].unique()"
   ]
  },
  {
   "cell_type": "code",
   "execution_count": 12,
   "metadata": {},
   "outputs": [
    {
     "data": {
      "text/plain": [
       "array(['', 'ม.ล.', 'พ.ต.ต.', 'ร.ต.อ.', 'นาวาโท', 'นาย'], dtype=object)"
      ]
     },
     "execution_count": 12,
     "metadata": {},
     "output_type": "execute_result"
    }
   ],
   "source": [
    "dfs2['คำนำหน้านาม'].unique()"
   ]
  },
  {
   "cell_type": "code",
   "execution_count": 13,
   "metadata": {},
   "outputs": [
    {
     "data": {
      "text/html": [
       "<div>\n",
       "<style scoped>\n",
       "    .dataframe tbody tr th:only-of-type {\n",
       "        vertical-align: middle;\n",
       "    }\n",
       "\n",
       "    .dataframe tbody tr th {\n",
       "        vertical-align: top;\n",
       "    }\n",
       "\n",
       "    .dataframe thead th {\n",
       "        text-align: right;\n",
       "    }\n",
       "</style>\n",
       "<table border=\"1\" class=\"dataframe\">\n",
       "  <thead>\n",
       "    <tr style=\"text-align: right;\">\n",
       "      <th></th>\n",
       "      <th>ตำแหน่ง</th>\n",
       "      <th>ตำแหน่ง ป.เอก</th>\n",
       "      <th>คำนำหน้านาม</th>\n",
       "      <th>ชื่อ</th>\n",
       "      <th>นามสกุล</th>\n",
       "      <th>คุณวุฒิ</th>\n",
       "      <th>มหาวิทยาลัย</th>\n",
       "      <th>สาขาวิชา</th>\n",
       "      <th>ความเชี่ยวชาญ</th>\n",
       "      <th>สถานที่ติดต่อ</th>\n",
       "      <th>โทร</th>\n",
       "      <th>email</th>\n",
       "      <th>สถานะ</th>\n",
       "    </tr>\n",
       "  </thead>\n",
       "  <tbody>\n",
       "    <tr>\n",
       "      <th>0</th>\n",
       "      <td>รองศาสตราจารย์</td>\n",
       "      <td>ดร.</td>\n",
       "      <td></td>\n",
       "      <td>สรณัฐ</td>\n",
       "      <td>ไตลังคะ</td>\n",
       "      <td>อักษรศาสตรดุษฎีบัณฑิต (วรรณคดีและวรรณคดีเปรียบ...</td>\n",
       "      <td>มหาวิทยาลัยเกษตรศาสตร์</td>\n",
       "      <td>วรรณคดี</td>\n",
       "      <td>วรรณกรรมไทยสมัยใหม่ วรรณคดีเปรียบเทียบ วรรณคดี...</td>\n",
       "      <td>ภาควิชาวรรณคดี \\nคณะมนุษยศาสตร์ \\nมหาวิทยาลัยเ...</td>\n",
       "      <td>02-579-5566</td>\n",
       "      <td>fhumira@ku.ac.th</td>\n",
       "      <td></td>\n",
       "    </tr>\n",
       "    <tr>\n",
       "      <th>1</th>\n",
       "      <td>รองศาสตราจารย์</td>\n",
       "      <td>ดร.</td>\n",
       "      <td></td>\n",
       "      <td>วิภาวรรณ</td>\n",
       "      <td>อยู่เย็น</td>\n",
       "      <td>NaN</td>\n",
       "      <td>มหาวิทยาลัยเกษตรศาสตร์</td>\n",
       "      <td>ภาษาไทย</td>\n",
       "      <td>NaN</td>\n",
       "      <td>ภาควิชาภาษาไทย \\nคณะมนุษยศาสตร์ \\nมหาวิทยาลัยเ...</td>\n",
       "      <td>NaN</td>\n",
       "      <td>NaN</td>\n",
       "      <td></td>\n",
       "    </tr>\n",
       "    <tr>\n",
       "      <th>2</th>\n",
       "      <td>รองศาสตราจารย์</td>\n",
       "      <td>ดร.</td>\n",
       "      <td></td>\n",
       "      <td>ณัฐมา</td>\n",
       "      <td>พงศ์ไพโรจน์</td>\n",
       "      <td>Ph.D. (Linguistics)</td>\n",
       "      <td>จุฬาลงกรณ์มหาวิทยาลัย</td>\n",
       "      <td>ภาษาอังกฤษ</td>\n",
       "      <td>Second Language Acquisition, especially of Syn...</td>\n",
       "      <td>ภาควิชาภาษาอังกฤษ \\nคณะอักษรศาสตร์ \\nจุฬาลงกรณ...</td>\n",
       "      <td>02-218-4716</td>\n",
       "      <td>pnattama@gmail.com</td>\n",
       "      <td></td>\n",
       "    </tr>\n",
       "    <tr>\n",
       "      <th>3</th>\n",
       "      <td>รองศาสตราจารย์</td>\n",
       "      <td></td>\n",
       "      <td></td>\n",
       "      <td>อุดมศักดิ์</td>\n",
       "      <td>สาริบุตร</td>\n",
       "      <td>NaN</td>\n",
       "      <td>สถาบันเทคโนโลยีพระจอมเกล้าเจ้าคุณทหารลาดกระบัง</td>\n",
       "      <td>ครุศาสตร์สถาปัตยกรรมและการออกแบบ</td>\n",
       "      <td>NaN</td>\n",
       "      <td>คณะครุศาสตร์อุตสาหกรรม \\nสถาบันเทคโนโลยีพระจอม...</td>\n",
       "      <td>NaN</td>\n",
       "      <td>NaN</td>\n",
       "      <td></td>\n",
       "    </tr>\n",
       "    <tr>\n",
       "      <th>4</th>\n",
       "      <td>รองศาสตราจารย์</td>\n",
       "      <td></td>\n",
       "      <td></td>\n",
       "      <td>สัญญา</td>\n",
       "      <td>วงศ์อร่าม</td>\n",
       "      <td>NaN</td>\n",
       "      <td>จุฬาลงกรณ์มหาวิทยาลัย</td>\n",
       "      <td>ศิลปศึกษา</td>\n",
       "      <td>NaN</td>\n",
       "      <td>คณะครุศาสตร์ \\nจุฬาลงกรณ์มหาวิทยาลัย \\nแขวงวัง...</td>\n",
       "      <td>NaN</td>\n",
       "      <td>NaN</td>\n",
       "      <td></td>\n",
       "    </tr>\n",
       "    <tr>\n",
       "      <th>...</th>\n",
       "      <td>...</td>\n",
       "      <td>...</td>\n",
       "      <td>...</td>\n",
       "      <td>...</td>\n",
       "      <td>...</td>\n",
       "      <td>...</td>\n",
       "      <td>...</td>\n",
       "      <td>...</td>\n",
       "      <td>...</td>\n",
       "      <td>...</td>\n",
       "      <td>...</td>\n",
       "      <td>...</td>\n",
       "      <td>...</td>\n",
       "    </tr>\n",
       "    <tr>\n",
       "      <th>103</th>\n",
       "      <td>รองศาสตราจารย์</td>\n",
       "      <td>ดร.</td>\n",
       "      <td></td>\n",
       "      <td>กนกพร</td>\n",
       "      <td>นาคทับที</td>\n",
       "      <td>Ph.D. (Business Administration)</td>\n",
       "      <td>สถาบันบัณฑิตพัฒนบริหารศาสตร์</td>\n",
       "      <td>NaN</td>\n",
       "      <td>NaN</td>\n",
       "      <td>คณะบริหารธุรกิจ สถาบันบัณฑิตพัฒนบริหารศาสตร์ แ...</td>\n",
       "      <td>02-727-3975</td>\n",
       "      <td>NaN</td>\n",
       "      <td></td>\n",
       "    </tr>\n",
       "    <tr>\n",
       "      <th>104</th>\n",
       "      <td>รองศาสตราจารย์</td>\n",
       "      <td>ดร.</td>\n",
       "      <td></td>\n",
       "      <td>กฤตินี</td>\n",
       "      <td>ณัฏฐวุฒิสิทธิ์</td>\n",
       "      <td>Ph.D. (การตลาด)</td>\n",
       "      <td>จุฬาลงกรณ์มหาวิทยาลัย</td>\n",
       "      <td>NaN</td>\n",
       "      <td>NaN</td>\n",
       "      <td>สถาบันบัณฑิตบริหารธุรกิจศศินทร์ จุฬาลงกรณ์มหาว...</td>\n",
       "      <td>NaN</td>\n",
       "      <td>NaN</td>\n",
       "      <td></td>\n",
       "    </tr>\n",
       "    <tr>\n",
       "      <th>105</th>\n",
       "      <td></td>\n",
       "      <td></td>\n",
       "      <td>นาย</td>\n",
       "      <td>อภิพงศ์</td>\n",
       "      <td>ศานติเกษม</td>\n",
       "      <td>LL.M. (Distinction)\\nLL.M. (International Lega...</td>\n",
       "      <td></td>\n",
       "      <td>NaN</td>\n",
       "      <td>กฎหมายอาญา/ภาษาญี่ปุ่น</td>\n",
       "      <td>สำนักประธานศาลฎีกา สำนักงานศาลยุติธรรม (อาคารศ...</td>\n",
       "      <td>NaN</td>\n",
       "      <td>NaN</td>\n",
       "      <td></td>\n",
       "    </tr>\n",
       "    <tr>\n",
       "      <th>106</th>\n",
       "      <td>ผู้ช่วยศาสตราจารย์</td>\n",
       "      <td>ดร.</td>\n",
       "      <td></td>\n",
       "      <td>วีรวัฒน์</td>\n",
       "      <td>จันทโชติ</td>\n",
       "      <td>Doctor of Science of Law</td>\n",
       "      <td>มหาวิทยาลัยธรรมศาสตร์</td>\n",
       "      <td>NaN</td>\n",
       "      <td>กฎหมายอาญา/กฎหมายแพ่ง/ภาษาญี่ปุ่น</td>\n",
       "      <td>คณะนิติศาสตร์ มหาวิทยาลัยธรรมศาสตร์</td>\n",
       "      <td>NaN</td>\n",
       "      <td>NaN</td>\n",
       "      <td></td>\n",
       "    </tr>\n",
       "    <tr>\n",
       "      <th>107</th>\n",
       "      <td>รองศาสตราจารย์</td>\n",
       "      <td>ดร.</td>\n",
       "      <td></td>\n",
       "      <td>สาธิต</td>\n",
       "      <td>อินทจักร์</td>\n",
       "      <td>วศ.ด. (วิศวกรรมไฟฟ้า)</td>\n",
       "      <td>มหาวิทยาลัยสงขลานครินทร์</td>\n",
       "      <td>NaN</td>\n",
       "      <td>NaN</td>\n",
       "      <td>ภาควิชาวิทยาการคอมพิวเตอร์ คณะวิทยาศาสตร์ มหาว...</td>\n",
       "      <td>074-288-573</td>\n",
       "      <td>NaN</td>\n",
       "      <td></td>\n",
       "    </tr>\n",
       "  </tbody>\n",
       "</table>\n",
       "<p>108 rows × 13 columns</p>\n",
       "</div>"
      ],
      "text/plain": [
       "                ตำแหน่ง ตำแหน่ง ป.เอก คำนำหน้านาม        ชื่อ         นามสกุล  \\\n",
       "0        รองศาสตราจารย์           ดร.                   สรณัฐ         ไตลังคะ   \n",
       "1        รองศาสตราจารย์           ดร.                วิภาวรรณ        อยู่เย็น   \n",
       "2        รองศาสตราจารย์           ดร.                   ณัฐมา     พงศ์ไพโรจน์   \n",
       "3        รองศาสตราจารย์                            อุดมศักดิ์        สาริบุตร   \n",
       "4        รองศาสตราจารย์                                 สัญญา       วงศ์อร่าม   \n",
       "..                  ...           ...         ...         ...             ...   \n",
       "103      รองศาสตราจารย์           ดร.                   กนกพร        นาคทับที   \n",
       "104      รองศาสตราจารย์           ดร.                  กฤตินี  ณัฏฐวุฒิสิทธิ์   \n",
       "105                                           นาย     อภิพงศ์       ศานติเกษม   \n",
       "106  ผู้ช่วยศาสตราจารย์           ดร.                วีรวัฒน์        จันทโชติ   \n",
       "107      รองศาสตราจารย์           ดร.                   สาธิต       อินทจักร์   \n",
       "\n",
       "                                               คุณวุฒิ  \\\n",
       "0    อักษรศาสตรดุษฎีบัณฑิต (วรรณคดีและวรรณคดีเปรียบ...   \n",
       "1                                                  NaN   \n",
       "2                                  Ph.D. (Linguistics)   \n",
       "3                                                  NaN   \n",
       "4                                                  NaN   \n",
       "..                                                 ...   \n",
       "103                    Ph.D. (Business Administration)   \n",
       "104                                    Ph.D. (การตลาด)   \n",
       "105  LL.M. (Distinction)\\nLL.M. (International Lega...   \n",
       "106                           Doctor of Science of Law   \n",
       "107                              วศ.ด. (วิศวกรรมไฟฟ้า)   \n",
       "\n",
       "                                        มหาวิทยาลัย  \\\n",
       "0                            มหาวิทยาลัยเกษตรศาสตร์   \n",
       "1                            มหาวิทยาลัยเกษตรศาสตร์   \n",
       "2                             จุฬาลงกรณ์มหาวิทยาลัย   \n",
       "3    สถาบันเทคโนโลยีพระจอมเกล้าเจ้าคุณทหารลาดกระบัง   \n",
       "4                             จุฬาลงกรณ์มหาวิทยาลัย   \n",
       "..                                              ...   \n",
       "103                    สถาบันบัณฑิตพัฒนบริหารศาสตร์   \n",
       "104                           จุฬาลงกรณ์มหาวิทยาลัย   \n",
       "105                                                   \n",
       "106                           มหาวิทยาลัยธรรมศาสตร์   \n",
       "107                        มหาวิทยาลัยสงขลานครินทร์   \n",
       "\n",
       "                             สาขาวิชา  \\\n",
       "0                             วรรณคดี   \n",
       "1                             ภาษาไทย   \n",
       "2                          ภาษาอังกฤษ   \n",
       "3    ครุศาสตร์สถาปัตยกรรมและการออกแบบ   \n",
       "4                           ศิลปศึกษา   \n",
       "..                                ...   \n",
       "103                               NaN   \n",
       "104                               NaN   \n",
       "105                               NaN   \n",
       "106                               NaN   \n",
       "107                               NaN   \n",
       "\n",
       "                                         ความเชี่ยวชาญ  \\\n",
       "0    วรรณกรรมไทยสมัยใหม่ วรรณคดีเปรียบเทียบ วรรณคดี...   \n",
       "1                                                  NaN   \n",
       "2    Second Language Acquisition, especially of Syn...   \n",
       "3                                                  NaN   \n",
       "4                                                  NaN   \n",
       "..                                                 ...   \n",
       "103                                                NaN   \n",
       "104                                                NaN   \n",
       "105                             กฎหมายอาญา/ภาษาญี่ปุ่น   \n",
       "106                  กฎหมายอาญา/กฎหมายแพ่ง/ภาษาญี่ปุ่น   \n",
       "107                                                NaN   \n",
       "\n",
       "                                         สถานที่ติดต่อ          โทร  \\\n",
       "0    ภาควิชาวรรณคดี \\nคณะมนุษยศาสตร์ \\nมหาวิทยาลัยเ...  02-579-5566   \n",
       "1    ภาควิชาภาษาไทย \\nคณะมนุษยศาสตร์ \\nมหาวิทยาลัยเ...          NaN   \n",
       "2    ภาควิชาภาษาอังกฤษ \\nคณะอักษรศาสตร์ \\nจุฬาลงกรณ...  02-218-4716   \n",
       "3    คณะครุศาสตร์อุตสาหกรรม \\nสถาบันเทคโนโลยีพระจอม...          NaN   \n",
       "4    คณะครุศาสตร์ \\nจุฬาลงกรณ์มหาวิทยาลัย \\nแขวงวัง...          NaN   \n",
       "..                                                 ...          ...   \n",
       "103  คณะบริหารธุรกิจ สถาบันบัณฑิตพัฒนบริหารศาสตร์ แ...  02-727-3975   \n",
       "104  สถาบันบัณฑิตบริหารธุรกิจศศินทร์ จุฬาลงกรณ์มหาว...          NaN   \n",
       "105  สำนักประธานศาลฎีกา สำนักงานศาลยุติธรรม (อาคารศ...          NaN   \n",
       "106                คณะนิติศาสตร์ มหาวิทยาลัยธรรมศาสตร์          NaN   \n",
       "107  ภาควิชาวิทยาการคอมพิวเตอร์ คณะวิทยาศาสตร์ มหาว...  074-288-573   \n",
       "\n",
       "                  email สถานะ  \n",
       "0      fhumira@ku.ac.th        \n",
       "1                   NaN        \n",
       "2    pnattama@gmail.com        \n",
       "3                   NaN        \n",
       "4                   NaN        \n",
       "..                  ...   ...  \n",
       "103                 NaN        \n",
       "104                 NaN        \n",
       "105                 NaN        \n",
       "106                 NaN        \n",
       "107                 NaN        \n",
       "\n",
       "[108 rows x 13 columns]"
      ]
     },
     "execution_count": 13,
     "metadata": {},
     "output_type": "execute_result"
    }
   ],
   "source": [
    "dfs2"
   ]
  },
  {
   "cell_type": "markdown",
   "metadata": {},
   "source": [
    "บันทึกลงไฟล์ CSV"
   ]
  },
  {
   "cell_type": "code",
   "execution_count": 14,
   "metadata": {},
   "outputs": [],
   "source": [
    "dfs2.to_csv('Councillist.csv', encoding='utf-8-sig')"
   ]
  }
 ],
 "metadata": {
  "kernelspec": {
   "display_name": "Python 3",
   "language": "python",
   "name": "python3"
  },
  "language_info": {
   "codemirror_mode": {
    "name": "ipython",
    "version": 3
   },
   "file_extension": ".py",
   "mimetype": "text/x-python",
   "name": "python",
   "nbconvert_exporter": "python",
   "pygments_lexer": "ipython3",
   "version": "3.7.3"
  }
 },
 "nbformat": 4,
 "nbformat_minor": 4
}
